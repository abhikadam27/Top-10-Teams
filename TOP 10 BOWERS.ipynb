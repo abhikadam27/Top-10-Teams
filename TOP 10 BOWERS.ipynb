{
 "cells": [
  {
   "cell_type": "code",
   "execution_count": 1,
   "id": "eec1e580",
   "metadata": {},
   "outputs": [],
   "source": [
    "from bs4 import BeautifulSoup\n",
    "import requests"
   ]
  },
  {
   "cell_type": "code",
   "execution_count": 2,
   "id": "a2e08af7",
   "metadata": {},
   "outputs": [],
   "source": [
    "url = \"https://www.icc-cricket.com/rankings/mens/player-rankings/odi/bowling\""
   ]
  },
  {
   "cell_type": "code",
   "execution_count": 3,
   "id": "e39d4399",
   "metadata": {},
   "outputs": [],
   "source": [
    "page = requests.get(url)"
   ]
  },
  {
   "cell_type": "code",
   "execution_count": 4,
   "id": "fcf729b9",
   "metadata": {},
   "outputs": [],
   "source": [
    "soup = BeautifulSoup(page.text,\"html.parser\")"
   ]
  },
  {
   "cell_type": "code",
   "execution_count": 5,
   "id": "0434a603",
   "metadata": {},
   "outputs": [],
   "source": [
    "table = soup.find(\"table\",class_=\"table rankings-table\")"
   ]
  },
  {
   "cell_type": "code",
   "execution_count": 6,
   "id": "11b283ea",
   "metadata": {},
   "outputs": [],
   "source": [
    "f_bowler = table.find(\"div\",class_=\"rankings-block__banner--name-large\").text"
   ]
  },
  {
   "cell_type": "code",
   "execution_count": 7,
   "id": "8e6ad5fb",
   "metadata": {},
   "outputs": [],
   "source": [
    "b_team= table.find(\"div\",class_=\"rankings-block__banner--nationality\").text.replace('\\n','')"
   ]
  },
  {
   "cell_type": "code",
   "execution_count": 8,
   "id": "705fa74c",
   "metadata": {},
   "outputs": [],
   "source": [
    "b_rating = table.find(\"div\",class_=\"rankings-block__banner--rating\").text"
   ]
  },
  {
   "cell_type": "code",
   "execution_count": 9,
   "id": "518bf72c",
   "metadata": {},
   "outputs": [],
   "source": [
    "bowlers = table.find_all(\"td\",class_=\"table-body__cell rankings-table__name name\")[0:9]"
   ]
  },
  {
   "cell_type": "code",
   "execution_count": 10,
   "id": "95aefdc5",
   "metadata": {},
   "outputs": [],
   "source": [
    "bowler = [f_bowler]\n",
    "for i in bowlers:\n",
    "    bowler.append(i.text.replace('\\n',''))"
   ]
  },
  {
   "cell_type": "code",
   "execution_count": 11,
   "id": "a80589d2",
   "metadata": {},
   "outputs": [],
   "source": [
    "teams = table.find_all(\"span\",class_=\"table-body__logo-text\")[0:9]"
   ]
  },
  {
   "cell_type": "code",
   "execution_count": 12,
   "id": "eb816d8a",
   "metadata": {},
   "outputs": [],
   "source": [
    "team=[b_team]\n",
    "for i in teams:\n",
    "    team.append(i.text)"
   ]
  },
  {
   "cell_type": "code",
   "execution_count": 13,
   "id": "de2bc046",
   "metadata": {},
   "outputs": [],
   "source": [
    "ratings = table.find_all(\"td\",class_=\"table-body__cell rating\")[0:9]"
   ]
  },
  {
   "cell_type": "code",
   "execution_count": 14,
   "id": "e10b9386",
   "metadata": {},
   "outputs": [],
   "source": [
    "rating = [b_rating]\n",
    "for i in ratings:\n",
    "    rating.append(i.text)"
   ]
  },
  {
   "cell_type": "code",
   "execution_count": 15,
   "id": "d372e59c",
   "metadata": {},
   "outputs": [],
   "source": [
    "data = list(zip(bowler,team,rating))"
   ]
  },
  {
   "cell_type": "code",
   "execution_count": 16,
   "id": "035205e2",
   "metadata": {},
   "outputs": [
    {
     "data": {
      "text/html": [
       "<div>\n",
       "<style scoped>\n",
       "    .dataframe tbody tr th:only-of-type {\n",
       "        vertical-align: middle;\n",
       "    }\n",
       "\n",
       "    .dataframe tbody tr th {\n",
       "        vertical-align: top;\n",
       "    }\n",
       "\n",
       "    .dataframe thead th {\n",
       "        text-align: right;\n",
       "    }\n",
       "</style>\n",
       "<table border=\"1\" class=\"dataframe\">\n",
       "  <thead>\n",
       "    <tr style=\"text-align: right;\">\n",
       "      <th></th>\n",
       "      <th>Bowler Name</th>\n",
       "      <th>Team</th>\n",
       "      <th>Ratings</th>\n",
       "    </tr>\n",
       "  </thead>\n",
       "  <tbody>\n",
       "    <tr>\n",
       "      <th>0</th>\n",
       "      <td>Trent Boult</td>\n",
       "      <td>NZ</td>\n",
       "      <td>737</td>\n",
       "    </tr>\n",
       "    <tr>\n",
       "      <th>1</th>\n",
       "      <td>Mehedi Hasan</td>\n",
       "      <td>BAN</td>\n",
       "      <td>713</td>\n",
       "    </tr>\n",
       "    <tr>\n",
       "      <th>2</th>\n",
       "      <td>Mujeeb Ur Rahman</td>\n",
       "      <td>AFG</td>\n",
       "      <td>708</td>\n",
       "    </tr>\n",
       "    <tr>\n",
       "      <th>3</th>\n",
       "      <td>Matt Henry</td>\n",
       "      <td>NZ</td>\n",
       "      <td>691</td>\n",
       "    </tr>\n",
       "    <tr>\n",
       "      <th>4</th>\n",
       "      <td>Jasprit Bumrah</td>\n",
       "      <td>IND</td>\n",
       "      <td>690</td>\n",
       "    </tr>\n",
       "    <tr>\n",
       "      <th>5</th>\n",
       "      <td>Kagiso Rabada</td>\n",
       "      <td>SA</td>\n",
       "      <td>666</td>\n",
       "    </tr>\n",
       "    <tr>\n",
       "      <th>6</th>\n",
       "      <td>Chris Woakes</td>\n",
       "      <td>ENG</td>\n",
       "      <td>665</td>\n",
       "    </tr>\n",
       "    <tr>\n",
       "      <th>7</th>\n",
       "      <td>Josh Hazlewood</td>\n",
       "      <td>AUS</td>\n",
       "      <td>660</td>\n",
       "    </tr>\n",
       "    <tr>\n",
       "      <th>8</th>\n",
       "      <td>Pat Cummins</td>\n",
       "      <td>AUS</td>\n",
       "      <td>646</td>\n",
       "    </tr>\n",
       "    <tr>\n",
       "      <th>9</th>\n",
       "      <td>Mustafizur Rahman</td>\n",
       "      <td>BAN</td>\n",
       "      <td>645</td>\n",
       "    </tr>\n",
       "  </tbody>\n",
       "</table>\n",
       "</div>"
      ],
      "text/plain": [
       "         Bowler Name Team Ratings\n",
       "0        Trent Boult   NZ     737\n",
       "1       Mehedi Hasan  BAN     713\n",
       "2   Mujeeb Ur Rahman  AFG     708\n",
       "3         Matt Henry   NZ     691\n",
       "4     Jasprit Bumrah  IND     690\n",
       "5      Kagiso Rabada   SA     666\n",
       "6       Chris Woakes  ENG     665\n",
       "7     Josh Hazlewood  AUS     660\n",
       "8        Pat Cummins  AUS     646\n",
       "9  Mustafizur Rahman  BAN     645"
      ]
     },
     "execution_count": 16,
     "metadata": {},
     "output_type": "execute_result"
    }
   ],
   "source": [
    "import pandas as pd\n",
    "df = pd.DataFrame(data, columns = [\"Bowler Name\",\"Team\",\"Ratings\"])\n",
    "df"
   ]
  },
  {
   "cell_type": "code",
   "execution_count": null,
   "id": "86e97bac",
   "metadata": {},
   "outputs": [],
   "source": []
  }
 ],
 "metadata": {
  "kernelspec": {
   "display_name": "Python 3",
   "language": "python",
   "name": "python3"
  },
  "language_info": {
   "codemirror_mode": {
    "name": "ipython",
    "version": 3
   },
   "file_extension": ".py",
   "mimetype": "text/x-python",
   "name": "python",
   "nbconvert_exporter": "python",
   "pygments_lexer": "ipython3",
   "version": "3.8.8"
  }
 },
 "nbformat": 4,
 "nbformat_minor": 5
}
